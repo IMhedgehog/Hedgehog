{
  "nbformat": 4,
  "nbformat_minor": 0,
  "metadata": {
    "colab": {
      "provenance": [],
      "authorship_tag": "ABX9TyPgGMyeT64QG4LqClRnlJDQ",
      "include_colab_link": true
    },
    "kernelspec": {
      "name": "python3",
      "display_name": "Python 3"
    },
    "language_info": {
      "name": "python"
    }
  },
  "cells": [
    {
      "cell_type": "markdown",
      "metadata": {
        "id": "view-in-github",
        "colab_type": "text"
      },
      "source": [
        "<a href=\"https://colab.research.google.com/github/IMhedgehog/Hedgehog/blob/main/class_20230522.ipynb\" target=\"_parent\"><img src=\"https://colab.research.google.com/assets/colab-badge.svg\" alt=\"Open In Colab\"/></a>"
      ]
    },
    {
      "cell_type": "code",
      "execution_count": 2,
      "metadata": {
        "colab": {
          "base_uri": "https://localhost:8080/"
        },
        "id": "u6yhWr6zJac_",
        "outputId": "3f8c37b7-1cf4-4158-e438-fc33a721b138"
      },
      "outputs": [
        {
          "output_type": "stream",
          "name": "stdout",
          "text": [
            "a#b#c#D\n"
          ]
        }
      ],
      "source": [
        "s = \"a:b:c:D\"\n",
        "s_split = s.split(\":\")\n",
        "s_join = \"#\".join(s_split)\n",
        "print(s_join)"
      ]
    },
    {
      "cell_type": "code",
      "source": [
        "s = \"Hello World Python\"\n",
        "a = s.split(\" \")\n",
        "b = \",\".join(a)\n",
        "print(b)"
      ],
      "metadata": {
        "colab": {
          "base_uri": "https://localhost:8080/"
        },
        "id": "TvGyE_5pJsxw",
        "outputId": "8856c210-70e7-48a6-cbb6-3acb2adedf29"
      },
      "execution_count": 3,
      "outputs": [
        {
          "output_type": "stream",
          "name": "stdout",
          "text": [
            "Hello,World,Python\n"
          ]
        }
      ]
    },
    {
      "cell_type": "code",
      "source": [
        "s = \"I love cats and cats are cute\"\n",
        "a = s.split(\"cats\")\n",
        "b = \"dogs\".join(a)\n",
        "print(b)"
      ],
      "metadata": {
        "colab": {
          "base_uri": "https://localhost:8080/"
        },
        "id": "PJqfMxrxKCs5",
        "outputId": "1fc72869-7500-4f2b-e6d9-d9ad0cc53073"
      },
      "execution_count": 5,
      "outputs": [
        {
          "output_type": "stream",
          "name": "stdout",
          "text": [
            "I love dogs and dogs are cute\n"
          ]
        }
      ]
    },
    {
      "cell_type": "code",
      "source": [
        "url = \"https://www.example.com/python/learn\"\n",
        "a = url.split(\"/\")\n",
        "print(a)"
      ],
      "metadata": {
        "colab": {
          "base_uri": "https://localhost:8080/"
        },
        "id": "5_E2MOWVKq0R",
        "outputId": "97bc3195-32c8-4fe4-c340-5bee9124ed27"
      },
      "execution_count": 8,
      "outputs": [
        {
          "output_type": "stream",
          "name": "stdout",
          "text": [
            "['https:', '', 'www.example.com', 'python', 'learn']\n"
          ]
        }
      ]
    },
    {
      "cell_type": "code",
      "source": [
        "scores = [90, 85, 77, 65, 97, 72, 88, 51, 30, 20, 60, 83, 54, 76, 39]\n",
        "high_scores = [score for score in scores if score >= 50]\n",
        "average = sum(high_scores) / len(high_scores)\n",
        "print(\"Answer:\", average)"
      ],
      "metadata": {
        "colab": {
          "base_uri": "https://localhost:8080/"
        },
        "id": "A0SKB0oSLLlh",
        "outputId": "cfac01cd-bbdd-489f-8ffc-83f045e75a23"
      },
      "execution_count": 20,
      "outputs": [
        {
          "output_type": "stream",
          "name": "stdout",
          "text": [
            "Answer: 74.83333333333333\n"
          ]
        }
      ]
    },
    {
      "cell_type": "code",
      "source": [
        "def average_above(scores, reference):\n",
        "  total = 0 \n",
        "  count = 0\n",
        "  for scores and reference:\n",
        "    if score >= reference:\n",
        "      scores.append(score)\n",
        "      \n",
        "  return total / count if count >0 else 0\n",
        "scores = [90, 85, 77, 65, 97, 72, 88, 51, 30, 20, 60, 83, 54, 76, 39]\n",
        "print(\"Answer:\", average_above(scores,50))"
      ],
      "metadata": {
        "colab": {
          "base_uri": "https://localhost:8080/",
          "height": 137
        },
        "id": "qq_U-ND4MBGp",
        "outputId": "cc2a4ac2-771d-47fa-c733-684aeb46b589"
      },
      "execution_count": 32,
      "outputs": [
        {
          "output_type": "error",
          "ename": "SyntaxError",
          "evalue": "ignored",
          "traceback": [
            "\u001b[0;36m  File \u001b[0;32m\"<ipython-input-32-4406b947712f>\"\u001b[0;36m, line \u001b[0;32m4\u001b[0m\n\u001b[0;31m    for scores and reference:\u001b[0m\n\u001b[0m        ^\u001b[0m\n\u001b[0;31mSyntaxError\u001b[0m\u001b[0;31m:\u001b[0m cannot assign to expression\n"
          ]
        }
      ]
    },
    {
      "cell_type": "code",
      "source": [
        "def fibonacci(n):\n",
        "  a, b = 0, 1\n",
        "  while a <= n:\n",
        "    print(a)\n",
        "    a, b = b, a+b\n",
        "fibonacci(21)"
      ],
      "metadata": {
        "colab": {
          "base_uri": "https://localhost:8080/"
        },
        "id": "Kd_VKqYAQRyl",
        "outputId": "2f802c27-bd39-41f4-9dd7-d63d2a927515"
      },
      "execution_count": 37,
      "outputs": [
        {
          "output_type": "stream",
          "name": "stdout",
          "text": [
            "0\n",
            "1\n",
            "1\n",
            "2\n",
            "3\n",
            "5\n",
            "8\n",
            "13\n",
            "21\n"
          ]
        }
      ]
    },
    {
      "cell_type": "code",
      "source": [
        "import math\n",
        "class Calculator:\n",
        "  def Calculator(self, data):\n",
        "    self.data = data\n",
        "  def sum(self):\n",
        "    return sum(self.data)\n",
        "  def count(self):\n",
        "    return len(self.data)\n",
        "  def average(self):\n",
        "    return sum(self.data) / len(self.data)\n",
        "calc = Calculator([1, 2, 3, 4, 5])\n",
        "print(\"Sum:\", sum(self.data))\n",
        "print(\"Count:\", count(self.data))\n",
        "print(\"Average:\", average(self.data))"
      ],
      "metadata": {
        "colab": {
          "base_uri": "https://localhost:8080/",
          "height": 248
        },
        "id": "90U7ZuotRf8D",
        "outputId": "1e70da58-ced5-46fc-c28c-d06d0fc11e72"
      },
      "execution_count": 47,
      "outputs": [
        {
          "output_type": "error",
          "ename": "TypeError",
          "evalue": "ignored",
          "traceback": [
            "\u001b[0;31m---------------------------------------------------------------------------\u001b[0m",
            "\u001b[0;31mTypeError\u001b[0m                                 Traceback (most recent call last)",
            "\u001b[0;32m<ipython-input-47-cd0c949fb3e8>\u001b[0m in \u001b[0;36m<cell line: 11>\u001b[0;34m()\u001b[0m\n\u001b[1;32m      9\u001b[0m   \u001b[0;32mdef\u001b[0m \u001b[0maverage\u001b[0m\u001b[0;34m(\u001b[0m\u001b[0mself\u001b[0m\u001b[0;34m)\u001b[0m\u001b[0;34m:\u001b[0m\u001b[0;34m\u001b[0m\u001b[0;34m\u001b[0m\u001b[0m\n\u001b[1;32m     10\u001b[0m     \u001b[0;32mreturn\u001b[0m \u001b[0msum\u001b[0m\u001b[0;34m(\u001b[0m\u001b[0mself\u001b[0m\u001b[0;34m.\u001b[0m\u001b[0mdata\u001b[0m\u001b[0;34m)\u001b[0m \u001b[0;34m/\u001b[0m \u001b[0mlen\u001b[0m\u001b[0;34m(\u001b[0m\u001b[0mself\u001b[0m\u001b[0;34m.\u001b[0m\u001b[0mdata\u001b[0m\u001b[0;34m)\u001b[0m\u001b[0;34m\u001b[0m\u001b[0;34m\u001b[0m\u001b[0m\n\u001b[0;32m---> 11\u001b[0;31m \u001b[0mcalc\u001b[0m \u001b[0;34m=\u001b[0m \u001b[0mCalculator\u001b[0m\u001b[0;34m(\u001b[0m\u001b[0;34m[\u001b[0m\u001b[0;36m1\u001b[0m\u001b[0;34m,\u001b[0m \u001b[0;36m2\u001b[0m\u001b[0;34m,\u001b[0m \u001b[0;36m3\u001b[0m\u001b[0;34m,\u001b[0m \u001b[0;36m4\u001b[0m\u001b[0;34m,\u001b[0m \u001b[0;36m5\u001b[0m\u001b[0;34m]\u001b[0m\u001b[0;34m)\u001b[0m\u001b[0;34m\u001b[0m\u001b[0;34m\u001b[0m\u001b[0m\n\u001b[0m\u001b[1;32m     12\u001b[0m \u001b[0mprint\u001b[0m\u001b[0;34m(\u001b[0m\u001b[0;34m\"Sum:\"\u001b[0m\u001b[0;34m,\u001b[0m \u001b[0msum\u001b[0m\u001b[0;34m(\u001b[0m\u001b[0mself\u001b[0m\u001b[0;34m.\u001b[0m\u001b[0mdata\u001b[0m\u001b[0;34m)\u001b[0m\u001b[0;34m)\u001b[0m\u001b[0;34m\u001b[0m\u001b[0;34m\u001b[0m\u001b[0m\n\u001b[1;32m     13\u001b[0m \u001b[0mprint\u001b[0m\u001b[0;34m(\u001b[0m\u001b[0;34m\"Count:\"\u001b[0m\u001b[0;34m,\u001b[0m \u001b[0mcount\u001b[0m\u001b[0;34m(\u001b[0m\u001b[0mself\u001b[0m\u001b[0;34m.\u001b[0m\u001b[0mdata\u001b[0m\u001b[0;34m)\u001b[0m\u001b[0;34m)\u001b[0m\u001b[0;34m\u001b[0m\u001b[0;34m\u001b[0m\u001b[0m\n",
            "\u001b[0;31mTypeError\u001b[0m: Calculator() takes no arguments"
          ]
        }
      ]
    }
  ]
}