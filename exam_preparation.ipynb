{
  "nbformat": 4,
  "nbformat_minor": 0,
  "metadata": {
    "colab": {
      "provenance": [],
      "authorship_tag": "ABX9TyOVc/wQ4ixxf2CFDlx58Hxc",
      "include_colab_link": true
    },
    "kernelspec": {
      "name": "python3",
      "display_name": "Python 3"
    },
    "language_info": {
      "name": "python"
    }
  },
  "cells": [
    {
      "cell_type": "markdown",
      "metadata": {
        "id": "view-in-github",
        "colab_type": "text"
      },
      "source": [
        "<a href=\"https://colab.research.google.com/github/IMhedgehog/Hedgehog/blob/main/exam_preparation.ipynb\" target=\"_parent\"><img src=\"https://colab.research.google.com/assets/colab-badge.svg\" alt=\"Open In Colab\"/></a>"
      ]
    },
    {
      "cell_type": "code",
      "execution_count": 2,
      "metadata": {
        "colab": {
          "base_uri": "https://localhost:8080/"
        },
        "id": "pr_0ztmkkMkH",
        "outputId": "3b9bb6b1-568e-40bb-9d1d-32ea2acfb04c"
      },
      "outputs": [
        {
          "output_type": "stream",
          "name": "stdout",
          "text": [
            "['__class__', '__delattr__', '__dict__', '__dir__', '__doc__', '__eq__', '__format__', '__ge__', '__getattribute__', '__gt__', '__hash__', '__init__', '__init_subclass__', '__le__', '__lt__', '__module__', '__ne__', '__new__', '__reduce__', '__reduce_ex__', '__repr__', '__setattr__', '__sizeof__', '__str__', '__subclasshook__', '__weakref__', 'my_attribute', 'my_method']\n"
          ]
        }
      ],
      "source": [
        "class MyClass:\n",
        "  def __init__(self):\n",
        "    self.my_attribute = \"Hello, World!\"\n",
        "\n",
        "  def my_method(self):\n",
        "    print(self.my_attribute)\n",
        "\n",
        "my_object = MyClass()\n",
        "\n",
        "print(dir(my_object))"
      ]
    },
    {
      "cell_type": "code",
      "source": [
        "divmod(7, 3) # 몫과 나머지를 출력"
      ],
      "metadata": {
        "colab": {
          "base_uri": "https://localhost:8080/"
        },
        "id": "95VR8AlUlDQ-",
        "outputId": "5cd3ea18-6705-40eb-d256-5f63465cfd36"
      },
      "execution_count": 4,
      "outputs": [
        {
          "output_type": "execute_result",
          "data": {
            "text/plain": [
              "(2, 1)"
            ]
          },
          "metadata": {},
          "execution_count": 4
        }
      ]
    },
    {
      "cell_type": "code",
      "source": [
        "for i, name in enumerate(['body', 'foo', 'bar']): # 반복 가능한 변수(예: 목록, 튜플 또는 문자열)를 인수로 사용하고 반복 가능한 각 요소의 인덱스 및 값을 포함하는 튜플을 생성하는 반복기를 반환합니다\n",
        "  print(i, name)"
      ],
      "metadata": {
        "colab": {
          "base_uri": "https://localhost:8080/"
        },
        "id": "7VmyqhPjlZBU",
        "outputId": "f55d5a63-5ab3-4e7e-c605-00857a3fdeb6"
      },
      "execution_count": 5,
      "outputs": [
        {
          "output_type": "stream",
          "name": "stdout",
          "text": [
            "0 body\n",
            "1 foo\n",
            "2 bar\n"
          ]
        }
      ]
    },
    {
      "cell_type": "code",
      "source": [
        "my_list = [1, 2, 3, 4, 5]\n",
        "my_iterator = iter(my_list)\n",
        "\n",
        "for num in my_list:\n",
        "  print(num)\n",
        "\n",
        "while True:\n",
        "  try:\n",
        "    num = next(my_iterator)\n",
        "    print(num)\n",
        "  except StopIteration:\n",
        "    break"
      ],
      "metadata": {
        "colab": {
          "base_uri": "https://localhost:8080/"
        },
        "id": "0i8ehXRpmebN",
        "outputId": "6eb4789c-3c61-4e0e-bdec-ca9b2b29a05c"
      },
      "execution_count": 6,
      "outputs": [
        {
          "output_type": "stream",
          "name": "stdout",
          "text": [
            "1\n",
            "2\n",
            "3\n",
            "4\n",
            "5\n",
            "1\n",
            "2\n",
            "3\n",
            "4\n",
            "5\n"
          ]
        }
      ]
    }
  ]
}