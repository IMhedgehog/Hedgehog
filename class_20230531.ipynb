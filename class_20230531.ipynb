{
  "nbformat": 4,
  "nbformat_minor": 0,
  "metadata": {
    "colab": {
      "provenance": [],
      "authorship_tag": "ABX9TyOIVveZTbuNkxTPgdrYF6Ei",
      "include_colab_link": true
    },
    "kernelspec": {
      "name": "python3",
      "display_name": "Python 3"
    },
    "language_info": {
      "name": "python"
    }
  },
  "cells": [
    {
      "cell_type": "markdown",
      "metadata": {
        "id": "view-in-github",
        "colab_type": "text"
      },
      "source": [
        "<a href=\"https://colab.research.google.com/github/IMhedgehog/Hedgehog/blob/main/class_20230531.ipynb\" target=\"_parent\"><img src=\"https://colab.research.google.com/assets/colab-badge.svg\" alt=\"Open In Colab\"/></a>"
      ]
    },
    {
      "cell_type": "code",
      "execution_count": null,
      "metadata": {
        "id": "OPXnJSMlbjGV"
      },
      "outputs": [],
      "source": [
        "import re\n",
        "p = re.compile('ab*')"
      ]
    },
    {
      "cell_type": "code",
      "source": [
        "import re\n",
        "p = re.compile('[a-z]+')"
      ],
      "metadata": {
        "id": "aVMFiSvGcmsa"
      },
      "execution_count": null,
      "outputs": []
    },
    {
      "cell_type": "code",
      "source": [
        "m = p.match(\"python\")\n",
        "print(m)"
      ],
      "metadata": {
        "colab": {
          "base_uri": "https://localhost:8080/"
        },
        "id": "OZDbFGIDcsS5",
        "outputId": "f3378b0e-e495-422d-95b3-34742f0ea2f6"
      },
      "execution_count": null,
      "outputs": [
        {
          "output_type": "stream",
          "name": "stdout",
          "text": [
            "<re.Match object; span=(0, 6), match='python'>\n"
          ]
        }
      ]
    },
    {
      "cell_type": "code",
      "source": [
        "m = p.match(\"3 python\")\n",
        "print(m)"
      ],
      "metadata": {
        "colab": {
          "base_uri": "https://localhost:8080/"
        },
        "id": "6mmTZgKsdBm5",
        "outputId": "43a1bdf4-5b53-4102-b78a-5360f2f31707"
      },
      "execution_count": null,
      "outputs": [
        {
          "output_type": "stream",
          "name": "stdout",
          "text": [
            "None\n"
          ]
        }
      ]
    },
    {
      "cell_type": "code",
      "source": [
        "m = p.search(\"3 python\")\n",
        "print(m)"
      ],
      "metadata": {
        "colab": {
          "base_uri": "https://localhost:8080/"
        },
        "id": "vglCNGofdKK5",
        "outputId": "41f76bb7-2f6a-408e-9684-a2db81f110f2"
      },
      "execution_count": null,
      "outputs": [
        {
          "output_type": "stream",
          "name": "stdout",
          "text": [
            "<re.Match object; span=(2, 8), match='python'>\n"
          ]
        }
      ]
    },
    {
      "cell_type": "code",
      "source": [
        "result = p.findall(\"life is too short\")\n",
        "print(result)"
      ],
      "metadata": {
        "colab": {
          "base_uri": "https://localhost:8080/"
        },
        "id": "gDd04hKkdcZB",
        "outputId": "5432caa1-225d-47fc-f3a6-4d29715b8d5f"
      },
      "execution_count": null,
      "outputs": [
        {
          "output_type": "stream",
          "name": "stdout",
          "text": [
            "['life', 'is', 'too', 'short']\n"
          ]
        }
      ]
    },
    {
      "cell_type": "code",
      "source": [
        "result = p.finditer(\"life is too short\")\n",
        "print(result)"
      ],
      "metadata": {
        "colab": {
          "base_uri": "https://localhost:8080/"
        },
        "id": "mFpLdYvId_qu",
        "outputId": "63c8eda0-756f-4eeb-ef8c-5797530c1e85"
      },
      "execution_count": null,
      "outputs": [
        {
          "output_type": "stream",
          "name": "stdout",
          "text": [
            "<callable_iterator object at 0x7f34711aec20>\n"
          ]
        }
      ]
    },
    {
      "cell_type": "code",
      "source": [
        "for r in result: print(r)"
      ],
      "metadata": {
        "colab": {
          "base_uri": "https://localhost:8080/"
        },
        "id": "aTOwIHxLeIbD",
        "outputId": "a230b60c-2076-4854-8a80-bbbeac0485a8"
      },
      "execution_count": null,
      "outputs": [
        {
          "output_type": "stream",
          "name": "stdout",
          "text": [
            "<re.Match object; span=(0, 4), match='life'>\n",
            "<re.Match object; span=(5, 7), match='is'>\n",
            "<re.Match object; span=(8, 11), match='too'>\n",
            "<re.Match object; span=(12, 17), match='short'>\n"
          ]
        }
      ]
    },
    {
      "cell_type": "code",
      "source": [
        "m = p.search(\"3 python\")\n",
        "m.group()"
      ],
      "metadata": {
        "id": "bip-lox8eIFL",
        "colab": {
          "base_uri": "https://localhost:8080/"
        },
        "outputId": "b4678b0d-a8a0-4dea-8dc0-bb9f5b4aca89"
      },
      "execution_count": 16,
      "outputs": [
        {
          "output_type": "execute_result",
          "data": {
            "text/plain": [
              "2"
            ]
          },
          "metadata": {},
          "execution_count": 16
        }
      ]
    },
    {
      "cell_type": "code",
      "source": [
        "p = re.compile('a.b', re.DOTALL)\n",
        "m = p.match('a\\nb')\n",
        "print(m)"
      ],
      "metadata": {
        "colab": {
          "base_uri": "https://localhost:8080/"
        },
        "id": "-xE4wBYHg-Ji",
        "outputId": "101f02cf-8c4f-4110-b3b3-9e9dd20d00b8"
      },
      "execution_count": 18,
      "outputs": [
        {
          "output_type": "stream",
          "name": "stdout",
          "text": [
            "<re.Match object; span=(0, 3), match='a\\nb'>\n"
          ]
        }
      ]
    },
    {
      "cell_type": "code",
      "source": [
        "p = re.compile('[a-z]+', re.I)\n",
        "p.match('Python')"
      ],
      "metadata": {
        "colab": {
          "base_uri": "https://localhost:8080/"
        },
        "id": "yU4n8F82h1OG",
        "outputId": "38c16dc0-009f-4cac-c597-9a9d96c6e43c"
      },
      "execution_count": 22,
      "outputs": [
        {
          "output_type": "execute_result",
          "data": {
            "text/plain": [
              "<re.Match object; span=(0, 6), match='Python'>"
            ]
          },
          "metadata": {},
          "execution_count": 22
        }
      ]
    },
    {
      "cell_type": "code",
      "source": [
        "p.match(\"PYTHON\")"
      ],
      "metadata": {
        "colab": {
          "base_uri": "https://localhost:8080/"
        },
        "id": "HxpwGTePiwt4",
        "outputId": "d0782b82-645c-4bf5-c4d5-aec79dcd54fa"
      },
      "execution_count": 23,
      "outputs": [
        {
          "output_type": "execute_result",
          "data": {
            "text/plain": [
              "<re.Match object; span=(0, 6), match='PYTHON'>"
            ]
          },
          "metadata": {},
          "execution_count": 23
        }
      ]
    },
    {
      "cell_type": "code",
      "source": [
        "import re\n",
        "p = re.compile(\"^python\\s\\w+\", re.MULTILINE)\n",
        "data = \"\"\"python one\n",
        "life is too short\n",
        "python two\n",
        "you need python\n",
        "python three\"\"\"\n",
        "print(p.findall(data))"
      ],
      "metadata": {
        "colab": {
          "base_uri": "https://localhost:8080/"
        },
        "id": "n3QV_RCijeoE",
        "outputId": "88be0a6f-487a-4e06-8ab7-7eccb2b99d7f"
      },
      "execution_count": 26,
      "outputs": [
        {
          "output_type": "stream",
          "name": "stdout",
          "text": [
            "['python one', 'python two', 'python three']\n"
          ]
        }
      ]
    },
    {
      "cell_type": "code",
      "source": [
        "charref = re.compile(r'&[#](0[0-7]+:[0-9]);', re.VERBOSE)"
      ],
      "metadata": {
        "id": "bFkkBPJHkO-w"
      },
      "execution_count": 33,
      "outputs": []
    },
    {
      "cell_type": "code",
      "source": [
        "from IPython.utils import text\n",
        "import re\n",
        "\n",
        "pattern = re.compile(r'p.t')\n",
        "\n",
        "# match\n",
        "text1 = \"pit is a word that matxhes the pattern.\"\n",
        "result1 = pattern.match(text1)\n",
        "print(\"Match result:\", result1)\n",
        "\n",
        "# search\n",
        "text2 = \"The pattern will match words like pit, pot, and pat.\"\n",
        "result2 = pattern.search(text2)\n",
        "print(\"Search result:\", result2)\n",
        "\n",
        "# findall\n",
        "result3 = pattern.findall(text2)\n",
        "print(\"Findall results:\", result3)\n",
        "\n",
        "# finditer\n",
        "result4 = pattern.finditer(text2)\n",
        "print(\"Finditer results:\")\n",
        "for match in result4:\n",
        "  print(match)"
      ],
      "metadata": {
        "colab": {
          "base_uri": "https://localhost:8080/"
        },
        "id": "QLWs_b8xmvaw",
        "outputId": "63961c7c-0860-45f5-eac1-40068c4af264"
      },
      "execution_count": 35,
      "outputs": [
        {
          "output_type": "stream",
          "name": "stdout",
          "text": [
            "Match result: <re.Match object; span=(0, 3), match='pit'>\n",
            "Search result: <re.Match object; span=(4, 7), match='pat'>\n",
            "Findall results: ['pat', 'pit', 'pot', 'pat']\n",
            "Finditer results:\n",
            "<re.Match object; span=(4, 7), match='pat'>\n",
            "<re.Match object; span=(34, 37), match='pit'>\n",
            "<re.Match object; span=(39, 42), match='pot'>\n",
            "<re.Match object; span=(48, 51), match='pat'>\n"
          ]
        }
      ]
    },
    {
      "cell_type": "code",
      "source": [
        "import re\n",
        "\n",
        "pattern = re.compile(r'ca*t')\n",
        "\n",
        "# match\n",
        "text1 = \"cat is a word that matches the pattern.\"\n",
        "result1 = pattern.match(text1)\n",
        "print(\"Match result:\", result1)\n",
        "\n",
        "# search \n",
        "text2 = \"The pattern will match words like ct, cat, caat, and caaat.\"\n",
        "result2 = pattern.search(text2)\n",
        "print(\"Findall results:\", result2)\n",
        "\n",
        "# findall\n",
        "result3 = pattern.findall(text2)\n",
        "print(\"Findall results:\", result3)\n",
        "\n",
        "# finditer\n",
        "result4 = pattern.finditer(text2)\n",
        "print(\"Finditer results:\")\n",
        "for match in result4:\n",
        "  print(match)\n"
      ],
      "metadata": {
        "colab": {
          "base_uri": "https://localhost:8080/"
        },
        "id": "-wH8Shx-ozxr",
        "outputId": "ecbd5ac4-fa15-49f0-a314-4f103938c802"
      },
      "execution_count": 36,
      "outputs": [
        {
          "output_type": "stream",
          "name": "stdout",
          "text": [
            "Match result: <re.Match object; span=(0, 3), match='cat'>\n",
            "Findall results: <re.Match object; span=(34, 36), match='ct'>\n",
            "Findall results: ['ct', 'cat', 'caat', 'caaat']\n",
            "Finditer results:\n",
            "<re.Match object; span=(34, 36), match='ct'>\n",
            "<re.Match object; span=(38, 41), match='cat'>\n",
            "<re.Match object; span=(43, 47), match='caat'>\n",
            "<re.Match object; span=(53, 58), match='caaat'>\n"
          ]
        }
      ]
    },
    {
      "cell_type": "code",
      "source": [
        "import re\n",
        "\n",
        "pattern = re.compile(r'ca+t')\n",
        "\n",
        "# match\n",
        "text1 = \"cat is a word that matches the pattern.\"\n",
        "result1 = pattern.match(text1)\n",
        "print(\"Match result:\", result1)\n",
        "\n",
        "# search\n",
        "text2 = \"The pattern will match words like cat, caat, and caaat.\"\n",
        "result2 = pattern.search(text2)\n",
        "print(\"Findall results:\", result3)\n",
        "\n",
        "# finditer\n",
        "result4 = pattern.finditer(text2)\n",
        "print(\"Finditer results:\")\n",
        "for match in result4:\n",
        "  print(match)"
      ],
      "metadata": {
        "colab": {
          "base_uri": "https://localhost:8080/"
        },
        "id": "H9R3GboCpu9G",
        "outputId": "5bf080b9-5b33-4eac-d90e-5dff23feb325"
      },
      "execution_count": 37,
      "outputs": [
        {
          "output_type": "stream",
          "name": "stdout",
          "text": [
            "Match result: <re.Match object; span=(0, 3), match='cat'>\n",
            "Findall results: ['ct', 'cat', 'caat', 'caaat']\n",
            "Finditer results:\n",
            "<re.Match object; span=(34, 37), match='cat'>\n",
            "<re.Match object; span=(39, 43), match='caat'>\n",
            "<re.Match object; span=(49, 54), match='caaat'>\n"
          ]
        }
      ]
    }
  ]
}