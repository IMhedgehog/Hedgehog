{
  "nbformat": 4,
  "nbformat_minor": 0,
  "metadata": {
    "colab": {
      "provenance": [],
      "authorship_tag": "ABX9TyOOQL8VLnEjyoKC9EKEf9WE",
      "include_colab_link": true
    },
    "kernelspec": {
      "name": "python3",
      "display_name": "Python 3"
    },
    "language_info": {
      "name": "python"
    }
  },
  "cells": [
    {
      "cell_type": "markdown",
      "metadata": {
        "id": "view-in-github",
        "colab_type": "text"
      },
      "source": [
        "<a href=\"https://colab.research.google.com/github/IMhedgehog/Hedgehog/blob/main/class_20230501.ipynb\" target=\"_parent\"><img src=\"https://colab.research.google.com/assets/colab-badge.svg\" alt=\"Open In Colab\"/></a>"
      ]
    },
    {
      "cell_type": "code",
      "execution_count": 1,
      "metadata": {
        "colab": {
          "base_uri": "https://localhost:8080/"
        },
        "id": "Agp1nF3r6apb",
        "outputId": "28def639-7ab3-4e12-9711-2784eb456ef3"
      },
      "outputs": [
        {
          "output_type": "stream",
          "name": "stdout",
          "text": [
            "Enter a number: d\n",
            "Invalid input. Please enter a valid number.\n"
          ]
        }
      ],
      "source": [
        "try:\n",
        "  num = int(input(\"Enter a number: \"))\n",
        "  result = 100 / num\n",
        "  print(\"Result:\", result)\n",
        "except ValueError:\n",
        "  print(\"Invalid input. Please enter a valid number.\")"
      ]
    },
    {
      "cell_type": "code",
      "source": [
        "try:\n",
        "  num = int(input(\"Enter a number: \"))\n",
        "  result = 100 / num\n",
        "  print(\"Result:\", result)\n",
        "except ZeroDivisionError:\n",
        "  print(\"Cannot divide by zero.\")"
      ],
      "metadata": {
        "colab": {
          "base_uri": "https://localhost:8080/"
        },
        "id": "xdTJgJ_PAsDw",
        "outputId": "7c970d9c-cb4d-468d-bbd9-c96058da0c1b"
      },
      "execution_count": 2,
      "outputs": [
        {
          "output_type": "stream",
          "name": "stdout",
          "text": [
            "Enter a number: 0\n",
            "Cannot divide by zero.\n"
          ]
        }
      ]
    },
    {
      "cell_type": "code",
      "source": [
        "try:\n",
        "  num = int(input(\"Enter a number: \"))\n",
        "  result = 100 / num\n",
        "  print(\"Result:\", result)\n",
        "except:\n",
        "  print(\"An error occured. Please try again.\")"
      ],
      "metadata": {
        "colab": {
          "base_uri": "https://localhost:8080/"
        },
        "id": "5fgt4rR8BgaE",
        "outputId": "2713ce0c-236a-4847-bcc2-fd9a5cf17245"
      },
      "execution_count": 3,
      "outputs": [
        {
          "output_type": "stream",
          "name": "stdout",
          "text": [
            "Enter a number: 0\n",
            "An error occured. Please try again.\n"
          ]
        }
      ]
    },
    {
      "cell_type": "code",
      "source": [
        "try:\n",
        "  file = open(\"example.txt\", \"r\")\n",
        "  contents = file.read()\n",
        "  print(contents)\n",
        "except FileNotFoundError:\n",
        "  print(\"File not found.\")\n",
        "finally:\n",
        "  file.close()"
      ],
      "metadata": {
        "colab": {
          "base_uri": "https://localhost:8080/",
          "height": 229
        },
        "id": "qe14Pu_WCQIG",
        "outputId": "1b8eb1da-cb33-44a4-b76e-0784c62ee2b4"
      },
      "execution_count": 4,
      "outputs": [
        {
          "output_type": "stream",
          "name": "stdout",
          "text": [
            "File not found.\n"
          ]
        },
        {
          "output_type": "error",
          "ename": "NameError",
          "evalue": "ignored",
          "traceback": [
            "\u001b[0;31m---------------------------------------------------------------------------\u001b[0m",
            "\u001b[0;31mNameError\u001b[0m                                 Traceback (most recent call last)",
            "\u001b[0;32m<ipython-input-4-4f548da915c4>\u001b[0m in \u001b[0;36m<cell line: 1>\u001b[0;34m()\u001b[0m\n\u001b[1;32m      6\u001b[0m   \u001b[0mprint\u001b[0m\u001b[0;34m(\u001b[0m\u001b[0;34m\"File not found.\"\u001b[0m\u001b[0;34m)\u001b[0m\u001b[0;34m\u001b[0m\u001b[0;34m\u001b[0m\u001b[0m\n\u001b[1;32m      7\u001b[0m \u001b[0;32mfinally\u001b[0m\u001b[0;34m:\u001b[0m\u001b[0;34m\u001b[0m\u001b[0;34m\u001b[0m\u001b[0m\n\u001b[0;32m----> 8\u001b[0;31m   \u001b[0mfile\u001b[0m\u001b[0;34m.\u001b[0m\u001b[0mclose\u001b[0m\u001b[0;34m(\u001b[0m\u001b[0;34m)\u001b[0m\u001b[0;34m\u001b[0m\u001b[0;34m\u001b[0m\u001b[0m\n\u001b[0m",
            "\u001b[0;31mNameError\u001b[0m: name 'file' is not defined"
          ]
        }
      ]
    },
    {
      "cell_type": "code",
      "source": [
        "try:\n",
        "  num1 = int(input(\"Enter a number: \"))\n",
        "  num2 = int(input(\"Enter another number: \"))\n",
        "except ValueError:\n",
        "  print(\"Invalid input. Please enter two valid numbers\")\n",
        "else:\n",
        "  result = num1 / num2\n",
        "  print(\"Result:\", result)"
      ],
      "metadata": {
        "colab": {
          "base_uri": "https://localhost:8080/"
        },
        "id": "vs5JcNTQDIIy",
        "outputId": "9cbbaf7a-d663-4e47-ec2b-c4c62ae32cd8"
      },
      "execution_count": 5,
      "outputs": [
        {
          "output_type": "stream",
          "name": "stdout",
          "text": [
            "Enter a number: 2\n",
            "Enter another number: 1\n",
            "Result: 2.0\n"
          ]
        }
      ]
    },
    {
      "cell_type": "code",
      "source": [
        "try:\n",
        "  age = int(input(\"Enter you age: \"))\n",
        "  if age < 0:\n",
        "    raise ValueError(\"Age cannot be negative.\")\n",
        "  else:\n",
        "    print(\"Your age is\", age)\n",
        "except ValueError as ve:\n",
        "  print(ve)"
      ],
      "metadata": {
        "colab": {
          "base_uri": "https://localhost:8080/"
        },
        "id": "6lc3Yz5vEPNO",
        "outputId": "aa3d412e-c8b4-442f-f47f-f1ae5a71711a"
      },
      "execution_count": 7,
      "outputs": [
        {
          "output_type": "stream",
          "name": "stdout",
          "text": [
            "Enter you age: -1\n",
            "Age cannot be negative.\n"
          ]
        }
      ]
    },
    {
      "cell_type": "code",
      "source": [
        "try: \n",
        "  num1 = int(input(\"Enter a number: \"))\n",
        "  num2 = int(input(\"Enter another number: \"))\n",
        "  result = num1 / num2\n",
        "  print(\"Result:\", result)\n",
        "except ValueError:\n",
        "  print(\"Invalid input. Please enter two valid numbers.\")\n",
        "except ZeroDivisionError:\n",
        "  print(\"Cannot divide by zero.\")\n",
        "except:\n",
        "  print(\"An error occured.\")"
      ],
      "metadata": {
        "colab": {
          "base_uri": "https://localhost:8080/"
        },
        "id": "s2S13V0nEp1P",
        "outputId": "82ff25f5-365b-4c31-bad7-f7df3ff7619d"
      },
      "execution_count": 9,
      "outputs": [
        {
          "output_type": "stream",
          "name": "stdout",
          "text": [
            "Enter a number: 8\n",
            "Enter another number: 2\n",
            "Result: 4.0\n"
          ]
        }
      ]
    },
    {
      "cell_type": "code",
      "source": [
        "def calculate_area(shape, *args):\n",
        "  if shape == 'rectangle':\n",
        "    if len(args) != 2:\n",
        "      raise ValueError(\"Rectangle requires 2 arguments\")\n",
        "    return args[0] * args[1]\n",
        "  elif shape == 'square':\n",
        "    if len(args) != 1:\n",
        "      raise ValueError(\"Square requires 1 argument\")\n",
        "    return args[0] ** 2\n",
        "  else:\n",
        "    raise NotImplementedError(\"This shape is not implemented yet\")\n",
        "\n",
        "try:\n",
        "  print(\"Rectangle area:\", calculate_area(\"rectangle\", 3, 4))\n",
        "  print(\"Square area:\", calculate_area(\"square\", 5))\n",
        "  print(\"Circle area:\", calculate_area(\"circle\", 2))\n",
        "except NotImplementedError as e:\n",
        "  print(e)"
      ],
      "metadata": {
        "colab": {
          "base_uri": "https://localhost:8080/"
        },
        "id": "kTKofxBlFyku",
        "outputId": "089aa87c-43e8-4e2e-ac92-544e4ad02615"
      },
      "execution_count": 10,
      "outputs": [
        {
          "output_type": "stream",
          "name": "stdout",
          "text": [
            "Rectangle area: 12\n",
            "Square area: 25\n",
            "This shape is not implemented yet\n"
          ]
        }
      ]
    }
  ]
}