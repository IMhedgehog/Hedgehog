{
  "nbformat": 4,
  "nbformat_minor": 0,
  "metadata": {
    "colab": {
      "provenance": [],
      "authorship_tag": "ABX9TyMHXOuMAZ/HraV4xWHziu3l",
      "include_colab_link": true
    },
    "kernelspec": {
      "name": "python3",
      "display_name": "Python 3"
    },
    "language_info": {
      "name": "python"
    }
  },
  "cells": [
    {
      "cell_type": "markdown",
      "metadata": {
        "id": "view-in-github",
        "colab_type": "text"
      },
      "source": [
        "<a href=\"https://colab.research.google.com/github/IMhedgehog/Hedgehog/blob/main/assignment_3.ipynb\" target=\"_parent\"><img src=\"https://colab.research.google.com/assets/colab-badge.svg\" alt=\"Open In Colab\"/></a>"
      ]
    },
    {
      "cell_type": "code",
      "execution_count": 2,
      "metadata": {
        "colab": {
          "base_uri": "https://localhost:8080/"
        },
        "id": "K40Vx5BNH-BY",
        "outputId": "711dba48-a273-4f1f-d565-46ce34638c9d"
      },
      "outputs": [
        {
          "output_type": "stream",
          "name": "stdout",
          "text": [
            "[13, 15, 17, 27, 37, 38]\n"
          ]
        }
      ],
      "source": [
        "# \n",
        "import random\n",
        "def generate_lotto_numbers():\n",
        "  numbers = random.sample(range(1,46), 6)\n",
        "  sort_numbers = sorted(numbers)\n",
        "  return sort_numbers\n",
        "a = generate_lotto_numbers()\n",
        "print(a)"
      ]
    }
  ]
}