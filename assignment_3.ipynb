{
  "nbformat": 4,
  "nbformat_minor": 0,
  "metadata": {
    "colab": {
      "provenance": [],
      "mount_file_id": "16pZzcZEjd34O941gOlJYuF0b0ZWaDan9",
      "authorship_tag": "ABX9TyNaql6/Y7chYZBjSFayihaC",
      "include_colab_link": true
    },
    "kernelspec": {
      "name": "python3",
      "display_name": "Python 3"
    },
    "language_info": {
      "name": "python"
    }
  },
  "cells": [
    {
      "cell_type": "markdown",
      "metadata": {
        "id": "view-in-github",
        "colab_type": "text"
      },
      "source": [
        "<a href=\"https://colab.research.google.com/github/IMhedgehog/Hedgehog/blob/main/assignment_3.ipynb\" target=\"_parent\"><img src=\"https://colab.research.google.com/assets/colab-badge.svg\" alt=\"Open In Colab\"/></a>"
      ]
    },
    {
      "cell_type": "code",
      "execution_count": null,
      "metadata": {
        "colab": {
          "base_uri": "https://localhost:8080/"
        },
        "id": "K40Vx5BNH-BY",
        "outputId": "7afbc5a1-b69a-4f39-fc5b-47d6e514d111"
      },
      "outputs": [
        {
          "output_type": "stream",
          "name": "stdout",
          "text": [
            "[8, 14, 21, 30, 37, 43]\n"
          ]
        }
      ],
      "source": [
        "#1 로또 번호 생성기\n",
        "import random # 난수 생성 모듈을 가져옴\n",
        "def generate_lotto_numbers(): # generate_lotto_numbers라는 이름의 함수를 정의함\n",
        "  numbers = random.sample(range(1,46), 6) # random.sample 함수를 이용하여 1부터 45까지의 수 중 6개를 뽑은 것을 numbers로 정의함\n",
        "  return sorted(numbers) # 함수는 sorted(numbers)의 값을 반환함\n",
        "a = generate_lotto_numbers()\n",
        "print(a)"
      ]
    },
    {
      "cell_type": "code",
      "source": [
        "#2 폴더 내 파일 조회\n",
        "import os # os 모듈을 호출함\n",
        "def list_files(): # list_files라는 이름의 함수를 정의함\n",
        "  folder_name = input(\"폴더 이름: \") # 폴더 이름을 입력하도록 하는 input 함수를 folder_name으로 정의함\n",
        "  return os.listdir(folder_name) # 함수가 폴더의 리스트를 출력하도록 함\n",
        "list_files()"
      ],
      "metadata": {
        "colab": {
          "base_uri": "https://localhost:8080/",
          "height": 382
        },
        "id": "Xl9-okA3LvoZ",
        "outputId": "a3fa153a-5cbb-492d-f0f3-b77539b51de8"
      },
      "execution_count": null,
      "outputs": [
        {
          "output_type": "error",
          "ename": "KeyboardInterrupt",
          "evalue": "ignored",
          "traceback": [
            "\u001b[0;31m---------------------------------------------------------------------------\u001b[0m",
            "\u001b[0;31mKeyboardInterrupt\u001b[0m                         Traceback (most recent call last)",
            "\u001b[0;32m<ipython-input-4-8afec6e68107>\u001b[0m in \u001b[0;36m<cell line: 6>\u001b[0;34m()\u001b[0m\n\u001b[1;32m      4\u001b[0m   \u001b[0mfolder_name\u001b[0m \u001b[0;34m=\u001b[0m \u001b[0minput\u001b[0m\u001b[0;34m(\u001b[0m\u001b[0;34m\"폴더 이름: \"\u001b[0m\u001b[0;34m)\u001b[0m \u001b[0;31m# 폴더 이름을 입력하도록 하는 input 함수를 folder_name으로 정의함\u001b[0m\u001b[0;34m\u001b[0m\u001b[0;34m\u001b[0m\u001b[0m\n\u001b[1;32m      5\u001b[0m   \u001b[0;32mreturn\u001b[0m \u001b[0mos\u001b[0m\u001b[0;34m.\u001b[0m\u001b[0mlistdir\u001b[0m\u001b[0;34m(\u001b[0m\u001b[0mfolder_name\u001b[0m\u001b[0;34m)\u001b[0m \u001b[0;31m# 함수가 폴더의 리스트를 출력하도록 함\u001b[0m\u001b[0;34m\u001b[0m\u001b[0;34m\u001b[0m\u001b[0m\n\u001b[0;32m----> 6\u001b[0;31m \u001b[0mlist_files\u001b[0m\u001b[0;34m(\u001b[0m\u001b[0;34m)\u001b[0m\u001b[0;34m\u001b[0m\u001b[0;34m\u001b[0m\u001b[0m\n\u001b[0m",
            "\u001b[0;32m<ipython-input-4-8afec6e68107>\u001b[0m in \u001b[0;36mlist_files\u001b[0;34m()\u001b[0m\n\u001b[1;32m      2\u001b[0m \u001b[0;32mimport\u001b[0m \u001b[0mos\u001b[0m \u001b[0;31m# os 모듈을 호출함\u001b[0m\u001b[0;34m\u001b[0m\u001b[0;34m\u001b[0m\u001b[0m\n\u001b[1;32m      3\u001b[0m \u001b[0;32mdef\u001b[0m \u001b[0mlist_files\u001b[0m\u001b[0;34m(\u001b[0m\u001b[0;34m)\u001b[0m\u001b[0;34m:\u001b[0m \u001b[0;31m# list_files라는 이름의 함수를 정의함\u001b[0m\u001b[0;34m\u001b[0m\u001b[0;34m\u001b[0m\u001b[0m\n\u001b[0;32m----> 4\u001b[0;31m   \u001b[0mfolder_name\u001b[0m \u001b[0;34m=\u001b[0m \u001b[0minput\u001b[0m\u001b[0;34m(\u001b[0m\u001b[0;34m\"폴더 이름: \"\u001b[0m\u001b[0;34m)\u001b[0m \u001b[0;31m# 폴더 이름을 입력하도록 하는 input 함수를 folder_name으로 정의함\u001b[0m\u001b[0;34m\u001b[0m\u001b[0;34m\u001b[0m\u001b[0m\n\u001b[0m\u001b[1;32m      5\u001b[0m   \u001b[0;32mreturn\u001b[0m \u001b[0mos\u001b[0m\u001b[0;34m.\u001b[0m\u001b[0mlistdir\u001b[0m\u001b[0;34m(\u001b[0m\u001b[0mfolder_name\u001b[0m\u001b[0;34m)\u001b[0m \u001b[0;31m# 함수가 폴더의 리스트를 출력하도록 함\u001b[0m\u001b[0;34m\u001b[0m\u001b[0;34m\u001b[0m\u001b[0m\n\u001b[1;32m      6\u001b[0m \u001b[0mlist_files\u001b[0m\u001b[0;34m(\u001b[0m\u001b[0;34m)\u001b[0m\u001b[0;34m\u001b[0m\u001b[0;34m\u001b[0m\u001b[0m\n",
            "\u001b[0;32m/usr/local/lib/python3.10/dist-packages/ipykernel/kernelbase.py\u001b[0m in \u001b[0;36mraw_input\u001b[0;34m(self, prompt)\u001b[0m\n\u001b[1;32m    849\u001b[0m                 \u001b[0;34m\"raw_input was called, but this frontend does not support input requests.\"\u001b[0m\u001b[0;34m\u001b[0m\u001b[0;34m\u001b[0m\u001b[0m\n\u001b[1;32m    850\u001b[0m             )\n\u001b[0;32m--> 851\u001b[0;31m         return self._input_request(str(prompt),\n\u001b[0m\u001b[1;32m    852\u001b[0m             \u001b[0mself\u001b[0m\u001b[0;34m.\u001b[0m\u001b[0m_parent_ident\u001b[0m\u001b[0;34m,\u001b[0m\u001b[0;34m\u001b[0m\u001b[0;34m\u001b[0m\u001b[0m\n\u001b[1;32m    853\u001b[0m             \u001b[0mself\u001b[0m\u001b[0;34m.\u001b[0m\u001b[0m_parent_header\u001b[0m\u001b[0;34m,\u001b[0m\u001b[0;34m\u001b[0m\u001b[0;34m\u001b[0m\u001b[0m\n",
            "\u001b[0;32m/usr/local/lib/python3.10/dist-packages/ipykernel/kernelbase.py\u001b[0m in \u001b[0;36m_input_request\u001b[0;34m(self, prompt, ident, parent, password)\u001b[0m\n\u001b[1;32m    893\u001b[0m             \u001b[0;32mexcept\u001b[0m \u001b[0mKeyboardInterrupt\u001b[0m\u001b[0;34m:\u001b[0m\u001b[0;34m\u001b[0m\u001b[0;34m\u001b[0m\u001b[0m\n\u001b[1;32m    894\u001b[0m                 \u001b[0;31m# re-raise KeyboardInterrupt, to truncate traceback\u001b[0m\u001b[0;34m\u001b[0m\u001b[0;34m\u001b[0m\u001b[0m\n\u001b[0;32m--> 895\u001b[0;31m                 \u001b[0;32mraise\u001b[0m \u001b[0mKeyboardInterrupt\u001b[0m\u001b[0;34m(\u001b[0m\u001b[0;34m\"Interrupted by user\"\u001b[0m\u001b[0;34m)\u001b[0m \u001b[0;32mfrom\u001b[0m \u001b[0;32mNone\u001b[0m\u001b[0;34m\u001b[0m\u001b[0;34m\u001b[0m\u001b[0m\n\u001b[0m\u001b[1;32m    896\u001b[0m             \u001b[0;32mexcept\u001b[0m \u001b[0mException\u001b[0m \u001b[0;32mas\u001b[0m \u001b[0me\u001b[0m\u001b[0;34m:\u001b[0m\u001b[0;34m\u001b[0m\u001b[0;34m\u001b[0m\u001b[0m\n\u001b[1;32m    897\u001b[0m                 \u001b[0mself\u001b[0m\u001b[0;34m.\u001b[0m\u001b[0mlog\u001b[0m\u001b[0;34m.\u001b[0m\u001b[0mwarning\u001b[0m\u001b[0;34m(\u001b[0m\u001b[0;34m\"Invalid Message:\"\u001b[0m\u001b[0;34m,\u001b[0m \u001b[0mexc_info\u001b[0m\u001b[0;34m=\u001b[0m\u001b[0;32mTrue\u001b[0m\u001b[0;34m)\u001b[0m\u001b[0;34m\u001b[0m\u001b[0;34m\u001b[0m\u001b[0m\n",
            "\u001b[0;31mKeyboardInterrupt\u001b[0m: Interrupted by user"
          ]
        }
      ]
    },
    {
      "cell_type": "code",
      "source": [
        "#3 현재 시간 출력\n",
        "import time # time 호출\n",
        "def print_current_time():\n",
        "  a = int(time.strftime('%H', time.localtime(time.time())))+9 # strftime 함수를 이용하여 시간을 스트링으로 변경, 우리나라 시간은 표준 시간에 9시간을 더해야 함 -> a로 정의함\n",
        "  if a >= 24: # 시간은 24시까지뿐이므로 24보다 크다면\n",
        "    hour = a - 24 # a에서 24를 뺌\n",
        "  else: # 아니라면\n",
        "    hour = a # 시간은 그냥 a\n",
        "  return str(hour)+':'+time.strftime('%M:%S', time.localtime(time.time())) # 시간을 스트링으로 변경한 것과 현재시각(분, 초)를 스트링으로 변경한 것을 합친 것을 도출함\n",
        "print_current_time()"
      ],
      "metadata": {
        "colab": {
          "base_uri": "https://localhost:8080/",
          "height": 35
        },
        "id": "DC4g182FQwCA",
        "outputId": "8cf140f1-76db-4358-b5c8-f42b96fc2cfd"
      },
      "execution_count": null,
      "outputs": [
        {
          "output_type": "execute_result",
          "data": {
            "text/plain": [
              "'21:25:29'"
            ],
            "application/vnd.google.colaboratory.intrinsic+json": {
              "type": "string"
            }
          },
          "metadata": {},
          "execution_count": 24
        }
      ]
    },
    {
      "cell_type": "code",
      "source": [
        "#4 달력 출력\n",
        "import calendar # calendar 호출\n",
        "def print_calendar():\n",
        "  try:\n",
        "    year = int(input(\"연도: \")) # input을 이용해 연도를 입력하도록 함, int를 이용해 정수가 나오도록 함\n",
        "    month = int(input(\"월:\")) # input을 이용해 월을 입력하도록 함\n",
        "  except ValueError: # ValueError\n",
        "    print(\"잘못된 입력입니다.\")\n",
        "  if month < 1 or month > 12: # 달을 입력했을 때 1월부터 12월까지 이외의 달을 입력하면 '잘못된 입력입니다.'가 출력되게 함\n",
        "    print(\"잘못된 입력입니다.\")\n",
        "  print(calendar.month(year, month))\n",
        "print_calendar()"
      ],
      "metadata": {
        "id": "OLyoqmAUYABk",
        "colab": {
          "base_uri": "https://localhost:8080/"
        },
        "outputId": "3ed95d93-afa0-4081-d523-4d03ac6b1910"
      },
      "execution_count": null,
      "outputs": [
        {
          "output_type": "stream",
          "name": "stdout",
          "text": [
            "연도: 2023\n",
            "월:1\n",
            "    January 2023\n",
            "Mo Tu We Th Fr Sa Su\n",
            "                   1\n",
            " 2  3  4  5  6  7  8\n",
            " 9 10 11 12 13 14 15\n",
            "16 17 18 19 20 21 22\n",
            "23 24 25 26 27 28 29\n",
            "30 31\n",
            "\n"
          ]
        }
      ]
    },
    {
      "cell_type": "code",
      "source": [
        "#5 특정 파일의 확장자 변경\n",
        "import os # os 호출\n",
        "from google.colab import drive # 구글 드라이브에 연결함\n",
        "os.chdir('/content/drive/MyDrive/WD') # 원하는 폴더로 작업 폴더를 변경함\n",
        "def change_extension():\n",
        "  a = input(\"파일 이름(확장자포함):\") # 파일 이름을 입력하도록 함\n",
        "  b = input(\"새로운확장자:\") # 확장자 종류를 입력하도록 함\n",
        "  try:\n",
        "     os.path.exists(a) # a에서 입력한 폴더의 존재 유무를 확인함\n",
        "     ext = '.'+b # ext를 . + b에서 입력한 확장자로 정의함\n",
        "     newfile = a.replace(os.path.splitext(a)[-1],ext) # a를 .을 포함한 확장자 부분을 ext로 대체하도록 한 것을 newfile로 정의함\n",
        "     os.rename(a, newfile) # a를 newfile로 이름을 바꿈\n",
        "  except:\n",
        "    print(\"파일이 존재하지 않습니다.\")\n",
        "change_extension()"
      ],
      "metadata": {
        "id": "g9D1JLyTDSKV",
        "colab": {
          "base_uri": "https://localhost:8080/"
        },
        "outputId": "87ebed3f-0703-4f1e-aa14-f0ec1aa32550"
      },
      "execution_count": null,
      "outputs": [
        {
          "name": "stdout",
          "output_type": "stream",
          "text": [
            "파일 이름(확장자포함):example file..txt\n",
            "새로운확장자:py\n"
          ]
        }
      ]
    }
  ]
}