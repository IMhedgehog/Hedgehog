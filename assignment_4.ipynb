{
  "nbformat": 4,
  "nbformat_minor": 0,
  "metadata": {
    "colab": {
      "provenance": [],
      "authorship_tag": "ABX9TyNBftuOXCyLvNNpvHSywZbz",
      "include_colab_link": true
    },
    "kernelspec": {
      "name": "python3",
      "display_name": "Python 3"
    },
    "language_info": {
      "name": "python"
    }
  },
  "cells": [
    {
      "cell_type": "markdown",
      "metadata": {
        "id": "view-in-github",
        "colab_type": "text"
      },
      "source": [
        "<a href=\"https://colab.research.google.com/github/IMhedgehog/Hedgehog/blob/main/assignment_4.ipynb\" target=\"_parent\"><img src=\"https://colab.research.google.com/assets/colab-badge.svg\" alt=\"Open In Colab\"/></a>"
      ]
    },
    {
      "cell_type": "code",
      "execution_count": 3,
      "metadata": {
        "id": "nn7KKbDpdExe",
        "colab": {
          "base_uri": "https://localhost:8080/"
        },
        "outputId": "8bf7eece-e4d0-432f-da50-1205c22aaf8e"
      },
      "outputs": [
        {
          "output_type": "stream",
          "name": "stdout",
          "text": [
            "Hello, World!\n"
          ]
        }
      ],
      "source": [
        "#1 HTML 태그 제거하기\n",
        "import re # re 모듈 호출\n",
        "def remove_html_tags(args): # remove_html_tags라는 이름의 함수 정의\n",
        "  p = re.compile(r'<.*?>') # p = re.compile을 통해 정규표현식을 컴파일함(p 객체 반환), non_greedy 문자인 ? 활용하여 greedy 제한\n",
        "  result = re.sub(p, '', args) # re.sub을 통해 p와 매치되는 부분을 빈 문자열로 대체\n",
        "  return result # result 값을 반환\n",
        "args = \"<p>Hello, World!</p>\"\n",
        "result = remove_html_tags(args)\n",
        "print(result)"
      ]
    },
    {
      "cell_type": "code",
      "source": [
        "#2 날짜 형식 변환하기\n",
        "def convert_date_format(args): # convert_date_format이라는 이름의 함수 정의\n",
        "  year, month, day = args.split('-') # split 함수를 이용해 입력된 날짜를 - 기준으로 분할\n",
        "  new = f'{month}/{day}/{year}' # new를 월/일/연도의 형식으로 지정함\n",
        "  return new # new를 반환함\n",
        "args = '2023-06-06'\n",
        "new = convert_date_format(args)\n",
        "print(new)"
      ],
      "metadata": {
        "colab": {
          "base_uri": "https://localhost:8080/"
        },
        "id": "Zcux5Jh4fiFJ",
        "outputId": "c485c95c-d9cd-4b0a-dd29-4f9f571f1a2e"
      },
      "execution_count": 4,
      "outputs": [
        {
          "output_type": "stream",
          "name": "stdout",
          "text": [
            "06/06/2023\n"
          ]
        }
      ]
    },
    {
      "cell_type": "code",
      "source": [
        "#3 숫자 리스트 정렬하기\n",
        "def bubble_sort(arg): # bubble_sort라는 이름의 함수 정의\n",
        "  n = len(arg) # arg 리스트 길이를 n으로 정의\n",
        "  for i in range(n): # 반복문 for i를 이용해 리스트 길이만큼 반복\n",
        "    for j in range(0, n-i-1): # 반복문 for j를 이용해 인접한 두 원소를 비교\n",
        "      if arg[j] > arg[j+1]: # arg[j]가 arg[j+1]보다 크다면\n",
        "        arg[j], arg[j+1] = arg[j+1], arg[j] # 위치를 바꿈\n",
        "value = [5, 3, 1, 4, 2]\n",
        "bubble_sort(value)\n",
        "print((value))"
      ],
      "metadata": {
        "colab": {
          "base_uri": "https://localhost:8080/"
        },
        "id": "kUTrMU7Kg1co",
        "outputId": "24b5231e-1e96-4612-ec94-c82f6f0b4dd0"
      },
      "execution_count": 11,
      "outputs": [
        {
          "output_type": "stream",
          "name": "stdout",
          "text": [
            "[1, 2, 3, 4, 5]\n"
          ]
        }
      ]
    },
    {
      "cell_type": "code",
      "source": [
        "#4 문자열에서 가장 많이 나오는 문자 찾기\n",
        "import re # re 모듈 호출\n",
        "def most_common_char(arg): # most_common_char라는 이름의 함수 정의\n",
        "  char_count = {} # char_count = 문자 등장 횟수를 저장\n",
        "  for char in re.findall(r'[a-z, A-Z]', arg): # findall을 이용해 주어진 문자열에서 알파벳 대소문자를 추출함\n",
        "    char_count[char] = char_count.get(char, 0) + 1 # 문자 등장 횟수를 갱신해서 계산함\n",
        "  m = max(char_count.values()) # m은 가장 많이 나오는 문자의 등장 횟수임\n",
        "  common = [char for char, count in char_count.items() if count == m] # 가장 많이 나온 문자를 리스트에 저장한 것을 common이라고 정의함\n",
        "  return min(common) # common 값을 반환함\n",
        "arg = 'aabbbccde'\n",
        "result = most_common_char(arg)\n",
        "print(result)"
      ],
      "metadata": {
        "colab": {
          "base_uri": "https://localhost:8080/"
        },
        "id": "eg5bZ4O5hs77",
        "outputId": "5b7239b1-46de-4e68-ff6a-ec2971671da3"
      },
      "execution_count": 19,
      "outputs": [
        {
          "output_type": "stream",
          "name": "stdout",
          "text": [
            "b\n"
          ]
        }
      ]
    },
    {
      "cell_type": "code",
      "source": [
        "#5 각 단어의 첫 글자로 이루어진 문자열 만들기\n",
        "def first_letters(arg): # first_letters라는 이름의 함수 정의\n",
        "  sentence = arg.split() # sentence = split을 이용해 arg를 분할한 것\n",
        "  result = ''.join(word[0] for word in sentence) # result는 각 단어의 첫 글자를 추출해 모은 것\n",
        "  return result\n",
        "arg = 'Hello World From Python'\n",
        "result = first_letters(arg)\n",
        "print(result)"
      ],
      "metadata": {
        "colab": {
          "base_uri": "https://localhost:8080/"
        },
        "id": "RQC5vC1vzJzP",
        "outputId": "f587140d-793d-4938-afab-cec761ef1453"
      },
      "execution_count": 12,
      "outputs": [
        {
          "output_type": "stream",
          "name": "stdout",
          "text": [
            "HWFP\n"
          ]
        }
      ]
    }
  ]
}