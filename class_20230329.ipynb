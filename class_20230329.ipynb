{
  "nbformat": 4,
  "nbformat_minor": 0,
  "metadata": {
    "colab": {
      "provenance": [],
      "authorship_tag": "ABX9TyPoGxtu136xnFSBkUsXQicR",
      "include_colab_link": true
    },
    "kernelspec": {
      "name": "python3",
      "display_name": "Python 3"
    },
    "language_info": {
      "name": "python"
    }
  },
  "cells": [
    {
      "cell_type": "markdown",
      "metadata": {
        "id": "view-in-github",
        "colab_type": "text"
      },
      "source": [
        "<a href=\"https://colab.research.google.com/github/IMhedgehog/Hedgehog/blob/main/class_20230329.ipynb\" target=\"_parent\"><img src=\"https://colab.research.google.com/assets/colab-badge.svg\" alt=\"Open In Colab\"/></a>"
      ]
    },
    {
      "cell_type": "code",
      "execution_count": 4,
      "metadata": {
        "id": "qqOY9mxA8UH6"
      },
      "outputs": [],
      "source": [
        "def add(a, b):\n",
        "  result = a + b\n",
        "  return result"
      ]
    },
    {
      "cell_type": "code",
      "source": [
        "a = add(3, 4)\n",
        "print(a)"
      ],
      "metadata": {
        "colab": {
          "base_uri": "https://localhost:8080/"
        },
        "id": "_odIlriU_cDB",
        "outputId": "eeb8a38a-cef4-43b0-8ae3-d0c56debbdbb"
      },
      "execution_count": 5,
      "outputs": [
        {
          "output_type": "stream",
          "name": "stdout",
          "text": [
            "7\n"
          ]
        }
      ]
    },
    {
      "cell_type": "code",
      "source": [
        "def say_myself(name, old, man=True):\n",
        "  print(\"나의 이름은 %s입니다.\" % name)\n",
        "  print(\"나이는 % d살입니다.\" % old)\n",
        "  if man:\n",
        "    print(\"남자입니다.\")\n",
        "  else:\n",
        "    print(\"여자입니다.\")"
      ],
      "metadata": {
        "id": "LlthzcdA_7S_"
      },
      "execution_count": 71,
      "outputs": []
    },
    {
      "cell_type": "code",
      "source": [
        "say_myself('hyeonho', 21, False)"
      ],
      "metadata": {
        "colab": {
          "base_uri": "https://localhost:8080/"
        },
        "id": "oh0VFYaZCatw",
        "outputId": "6fe65c6a-7e68-422a-f638-d01b72d4add2"
      },
      "execution_count": 78,
      "outputs": [
        {
          "output_type": "stream",
          "name": "stdout",
          "text": [
            "나의 이름은 hyeonho입니다.\n",
            "나이는  21살입니다.\n",
            "여자입니다.\n"
          ]
        }
      ]
    },
    {
      "cell_type": "code",
      "source": [
        "a = 1\n",
        "def vartest(a):\n",
        "  a = a + 1\n",
        "  return a\n",
        "\n",
        "print(vartest(a))"
      ],
      "metadata": {
        "colab": {
          "base_uri": "https://localhost:8080/"
        },
        "id": "_plDZLHBINJ4",
        "outputId": "433cec62-5684-49a8-96dd-fa4e46e60220"
      },
      "execution_count": 64,
      "outputs": [
        {
          "output_type": "stream",
          "name": "stdout",
          "text": [
            "2\n"
          ]
        }
      ]
    },
    {
      "cell_type": "code",
      "source": [
        "def vartest(v):\n",
        "  v = v + 1\n",
        "  return v"
      ],
      "metadata": {
        "id": "wJTn65lMK-Ey"
      },
      "execution_count": 66,
      "outputs": []
    },
    {
      "cell_type": "code",
      "source": [
        "result = vartest(1)\n",
        "print(result)"
      ],
      "metadata": {
        "colab": {
          "base_uri": "https://localhost:8080/"
        },
        "id": "R44FOK1VLDRg",
        "outputId": "51cebdaf-5de2-4743-c177-bf524a464f26"
      },
      "execution_count": 67,
      "outputs": [
        {
          "output_type": "stream",
          "name": "stdout",
          "text": [
            "2\n"
          ]
        }
      ]
    },
    {
      "cell_type": "code",
      "source": [
        "add = lambda a, b: a+b\n",
        "result = add(3, 4)\n",
        "print(result)"
      ],
      "metadata": {
        "colab": {
          "base_uri": "https://localhost:8080/"
        },
        "id": "Av6yhaLyLd_C",
        "outputId": "cdb14735-dfdb-4537-de42-354d1ed20601"
      },
      "execution_count": 68,
      "outputs": [
        {
          "output_type": "stream",
          "name": "stdout",
          "text": [
            "7\n"
          ]
        }
      ]
    }
  ]
}