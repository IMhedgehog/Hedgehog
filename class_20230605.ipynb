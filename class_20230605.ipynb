{
  "nbformat": 4,
  "nbformat_minor": 0,
  "metadata": {
    "colab": {
      "provenance": [],
      "authorship_tag": "ABX9TyN/EmQhZ0WVkMgzSmtx+1Q3",
      "include_colab_link": true
    },
    "kernelspec": {
      "name": "python3",
      "display_name": "Python 3"
    },
    "language_info": {
      "name": "python"
    }
  },
  "cells": [
    {
      "cell_type": "markdown",
      "metadata": {
        "id": "view-in-github",
        "colab_type": "text"
      },
      "source": [
        "<a href=\"https://colab.research.google.com/github/IMhedgehog/Hedgehog/blob/main/class_20230605.ipynb\" target=\"_parent\"><img src=\"https://colab.research.google.com/assets/colab-badge.svg\" alt=\"Open In Colab\"/></a>"
      ]
    },
    {
      "cell_type": "code",
      "execution_count": 4,
      "metadata": {
        "colab": {
          "base_uri": "https://localhost:8080/"
        },
        "id": "0xP_FWthKzIt",
        "outputId": "b2f36e9c-e2f1-47a2-af7a-2000d946c051"
      },
      "outputs": [
        {
          "output_type": "stream",
          "name": "stdout",
          "text": [
            "<re.Match object; span=(0, 4), match='Life'>\n"
          ]
        }
      ],
      "source": [
        "import re\n",
        "print(re.search('^Life', 'Life is too short'))"
      ]
    },
    {
      "cell_type": "code",
      "source": [
        "print(re.search('short$', 'Life is too short'))"
      ],
      "metadata": {
        "colab": {
          "base_uri": "https://localhost:8080/"
        },
        "id": "JGceije9P3i_",
        "outputId": "8b29c3af-ff2c-4187-82ab-70fdfe91e323"
      },
      "execution_count": 5,
      "outputs": [
        {
          "output_type": "stream",
          "name": "stdout",
          "text": [
            "<re.Match object; span=(12, 17), match='short'>\n"
          ]
        }
      ]
    },
    {
      "cell_type": "code",
      "source": [
        "p = re.compile(r'\\bclass\\b')\n",
        "print(p.search('no class at all'))"
      ],
      "metadata": {
        "colab": {
          "base_uri": "https://localhost:8080/"
        },
        "id": "xPIjv4enQPSd",
        "outputId": "27577ed0-afe4-4596-bd20-b4392d683992"
      },
      "execution_count": 6,
      "outputs": [
        {
          "output_type": "stream",
          "name": "stdout",
          "text": [
            "<re.Match object; span=(3, 8), match='class'>\n"
          ]
        }
      ]
    },
    {
      "cell_type": "code",
      "source": [
        "n = re.compile(r'\\Bclass\\B')\n",
        "print(n.search('no class at all'))"
      ],
      "metadata": {
        "colab": {
          "base_uri": "https://localhost:8080/"
        },
        "id": "npVPEdp2Rcna",
        "outputId": "7e3ce6cb-97e9-4d22-a41a-b574114ffe4b"
      },
      "execution_count": 7,
      "outputs": [
        {
          "output_type": "stream",
          "name": "stdout",
          "text": [
            "None\n"
          ]
        }
      ]
    },
    {
      "cell_type": "code",
      "source": [
        "text = \"John's phone number is 123-456-7890\"\n",
        "pattern = re.compile(\"(\\d{3})-(\\d{3})-(\\d{4})\")\n",
        "match = pattern.search(text)\n",
        "\n",
        "if match:\n",
        "  print(\"Phone number found:\", match.group())\n",
        "  print(\"Area code:\", match.group(1))\n",
        "  print(\"Prefix:\", match.group(2))\n",
        "  print(\"Suffix:\", match.group(3))"
      ],
      "metadata": {
        "colab": {
          "base_uri": "https://localhost:8080/"
        },
        "id": "dyzPxSqFSeuo",
        "outputId": "5f1576af-2d53-4d53-efb0-7a926c4ba16b"
      },
      "execution_count": 11,
      "outputs": [
        {
          "output_type": "stream",
          "name": "stdout",
          "text": [
            "Phone number found: 123-456-7890\n",
            "Area code: 123\n",
            "Prefix: 456\n",
            "Suffix: 7890\n"
          ]
        }
      ]
    },
    {
      "cell_type": "code",
      "source": [
        "text = \"Please contact us at support@example.com\"\n",
        "pattern = re.compile(\"(\\w+)@(\\w+\\.\\w+)\")\n",
        "match = pattern.search(text)\n",
        "\n",
        "if match:\n",
        "  print(\"Email found:\", match.group())\n",
        "  print(\"Username:\", match.group(1))\n",
        "  print(\"Domain:\", match.group(2))"
      ],
      "metadata": {
        "colab": {
          "base_uri": "https://localhost:8080/"
        },
        "id": "sLSQApfnTwI8",
        "outputId": "dfa3bf29-2a0a-495f-e36b-f246d1dae701"
      },
      "execution_count": 12,
      "outputs": [
        {
          "output_type": "stream",
          "name": "stdout",
          "text": [
            "Email found: support@example.com\n",
            "Username: support\n",
            "Domain: example.com\n"
          ]
        }
      ]
    },
    {
      "cell_type": "code",
      "source": [
        "text = \"John's phone number is 123-456-7890\"\n",
        "pattern = re.compile(\"(?P<area>\\d{3})-(?P<prefix>\\d{3})-(?P<suffix>\\d{4})\")\n",
        "match = pattern.search(text)\n",
        "\n",
        "if match:\n",
        "  print(\"Phone number found:\", match.group())\n",
        "  print(\"Area code:\", match.group(\"area\"))\n",
        "  print(\"Prefix:\", match.group(\"prefix\"))\n",
        "  print(\"Suffix:\", match.group(\"suffix\"))"
      ],
      "metadata": {
        "colab": {
          "base_uri": "https://localhost:8080/"
        },
        "id": "cR0c3sg7UmOi",
        "outputId": "13818119-86b8-4193-e2ba-2786bde69832"
      },
      "execution_count": 14,
      "outputs": [
        {
          "output_type": "stream",
          "name": "stdout",
          "text": [
            "Phone number found: 123-456-7890\n",
            "Area code: 123\n",
            "Prefix: 456\n",
            "Suffix: 7890\n"
          ]
        }
      ]
    },
    {
      "cell_type": "code",
      "source": [
        "p = re.compile(\".+:\")\n",
        "m = p.search(\"http://google.com\")\n",
        "print(m.group())"
      ],
      "metadata": {
        "colab": {
          "base_uri": "https://localhost:8080/"
        },
        "id": "RI0q0nn6V4Ee",
        "outputId": "bcf6e37c-1d13-4557-c3e1-27affbe97687"
      },
      "execution_count": 16,
      "outputs": [
        {
          "output_type": "stream",
          "name": "stdout",
          "text": [
            "http:\n"
          ]
        }
      ]
    },
    {
      "cell_type": "code",
      "source": [
        "text = \"+1-123-456-7890\"\n",
        "pattern = re.compile(\"(?!\\+\\d{1,2}-)\\d{3}-\\d{3}-\\d{4}\")\n",
        "match = pattern.search(text)\n",
        "\n",
        "if match:\n",
        "  print(\"Phone number found:\", match.group())"
      ],
      "metadata": {
        "colab": {
          "base_uri": "https://localhost:8080/"
        },
        "id": "ccl2LU4aWo3V",
        "outputId": "bc59aefe-73f6-4b7e-9c43-9a78be373ee5"
      },
      "execution_count": 18,
      "outputs": [
        {
          "output_type": "stream",
          "name": "stdout",
          "text": [
            "Phone number found: 123-456-7890\n"
          ]
        }
      ]
    },
    {
      "cell_type": "code",
      "source": [
        "p = re.compile('(bluewhitered)')\n",
        "p.sub('colour', 'blue socks and red shoes')"
      ],
      "metadata": {
        "colab": {
          "base_uri": "https://localhost:8080/",
          "height": 35
        },
        "id": "idK6bkknWoxU",
        "outputId": "5edc7650-2b8a-4144-8a3b-705edcb3629d"
      },
      "execution_count": 21,
      "outputs": [
        {
          "output_type": "execute_result",
          "data": {
            "text/plain": [
              "'blue socks and red shoes'"
            ],
            "application/vnd.google.colaboratory.intrinsic+json": {
              "type": "string"
            }
          },
          "metadata": {},
          "execution_count": 21
        }
      ]
    },
    {
      "cell_type": "code",
      "source": [
        "text = \"This is a test string with <em>some emphasized</em> text.\"\n",
        "pattern = re.compile(\"<.*>\")\n",
        "greedy_match = pattern.search(text)\n",
        "print(\"Greedy match:\", greedy_match.group())\n",
        "\n",
        "pattern = re.compile(\"<.*?>\")\n",
        "non_greedy_match = pattern.search(text)\n",
        "print(\"None-greedy match:\", non_greedy_match.group())"
      ],
      "metadata": {
        "colab": {
          "base_uri": "https://localhost:8080/"
        },
        "id": "8e4Og46WYNVZ",
        "outputId": "63dfcf1a-7517-4263-f580-043ba78e53e9"
      },
      "execution_count": 24,
      "outputs": [
        {
          "output_type": "stream",
          "name": "stdout",
          "text": [
            "Greedy match: <em>some emphasized</em>\n",
            "None-greedy match: <em>\n"
          ]
        }
      ]
    }
  ]
}