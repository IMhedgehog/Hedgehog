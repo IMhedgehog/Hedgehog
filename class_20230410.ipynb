{
  "nbformat": 4,
  "nbformat_minor": 0,
  "metadata": {
    "colab": {
      "provenance": [],
      "authorship_tag": "ABX9TyOaDNPRAIgnXSiVAsblVoGL",
      "include_colab_link": true
    },
    "kernelspec": {
      "name": "python3",
      "display_name": "Python 3"
    },
    "language_info": {
      "name": "python"
    }
  },
  "cells": [
    {
      "cell_type": "markdown",
      "metadata": {
        "id": "view-in-github",
        "colab_type": "text"
      },
      "source": [
        "<a href=\"https://colab.research.google.com/github/IMhedgehog/Hedgehog/blob/main/class_20230410.ipynb\" target=\"_parent\"><img src=\"https://colab.research.google.com/assets/colab-badge.svg\" alt=\"Open In Colab\"/></a>"
      ]
    },
    {
      "cell_type": "code",
      "execution_count": null,
      "metadata": {
        "colab": {
          "base_uri": "https://localhost:8080/"
        },
        "id": "CXMimWO15vZX",
        "outputId": "9bbbdecb-dccd-43a4-92c2-291b53526527"
      },
      "outputs": [
        {
          "output_type": "stream",
          "name": "stdout",
          "text": [
            "Hello, my name is Alice and I am 25 years old\n",
            "Hello, my name is Tom and I am 21 years old\n"
          ]
        }
      ],
      "source": [
        "class Person:\n",
        "  def __init__(self, name, age):\n",
        "    self.name = name\n",
        "    self.age = age\n",
        "  def say_hello(self):\n",
        "    print(\"Hello, my name is\", self.name, \"and I am\", self.age, \"years old\")\n",
        "p1 = Person(\"Alice\", 25)\n",
        "p2 = Person(\"Tom\", 21)\n",
        "p1.say_hello()\n",
        "p2.say_hello()"
      ]
    }
  ]
}