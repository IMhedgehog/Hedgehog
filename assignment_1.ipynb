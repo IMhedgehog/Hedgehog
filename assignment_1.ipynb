{
  "nbformat": 4,
  "nbformat_minor": 0,
  "metadata": {
    "colab": {
      "provenance": [],
      "authorship_tag": "ABX9TyMeGXMw5yFWYt1guzE40cJJ",
      "include_colab_link": true
    },
    "kernelspec": {
      "name": "python3",
      "display_name": "Python 3"
    },
    "language_info": {
      "name": "python"
    }
  },
  "cells": [
    {
      "cell_type": "markdown",
      "metadata": {
        "id": "view-in-github",
        "colab_type": "text"
      },
      "source": [
        "<a href=\"https://colab.research.google.com/github/IMhedgehog/Hedgehog/blob/main/assignment_1.ipynb\" target=\"_parent\"><img src=\"https://colab.research.google.com/assets/colab-badge.svg\" alt=\"Open In Colab\"/></a>"
      ]
    },
    {
      "cell_type": "code",
      "execution_count": 58,
      "metadata": {
        "colab": {
          "base_uri": "https://localhost:8080/"
        },
        "id": "VgZZCijUSepu",
        "outputId": "1d1dead4-6e87-46f2-9ff4-4baa9fdfd2be"
      },
      "outputs": [
        {
          "output_type": "stream",
          "name": "stdout",
          "text": [
            "10\n"
          ]
        }
      ],
      "source": [
        "#1 Write a function called find_largest that takes a list of integers as input and returns the largest integer in the list. Test your function with a list of integers, a = [1, 5, 8, 2, 9, 10, 4].\n",
        "def find_largest(*args):\n",
        "  largest = int(0)\n",
        "  for num in args:\n",
        "    if num > largest:\n",
        "      largest = num\n",
        "  return largest\n",
        "print(find_largest(1, 5, 8, 2, 9, 10, 4))\n",
        "\n"
      ]
    },
    {
      "cell_type": "code",
      "source": [
        "#2 Write a function called count_vowels that takes a string as input and returns the count of vowels (a, e, i, o, u) in the string. Test your function with \"Hello World!\"\n",
        "def count_vowels()"
      ],
      "metadata": {
        "id": "jJoBbcz8gjP5"
      },
      "execution_count": null,
      "outputs": []
    }
  ]
}