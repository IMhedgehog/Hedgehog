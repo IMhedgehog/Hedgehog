{
  "nbformat": 4,
  "nbformat_minor": 0,
  "metadata": {
    "colab": {
      "provenance": [],
      "mount_file_id": "1E4KtNJATRQbYLxpFAdEXKSFBizOGNToH",
      "authorship_tag": "ABX9TyNb5pJ5yUs7ZRshUKU701nc",
      "include_colab_link": true
    },
    "kernelspec": {
      "name": "python3",
      "display_name": "Python 3"
    },
    "language_info": {
      "name": "python"
    }
  },
  "cells": [
    {
      "cell_type": "markdown",
      "metadata": {
        "id": "view-in-github",
        "colab_type": "text"
      },
      "source": [
        "<a href=\"https://colab.research.google.com/github/IMhedgehog/Hedgehog/blob/main/class_20230517.ipynb\" target=\"_parent\"><img src=\"https://colab.research.google.com/assets/colab-badge.svg\" alt=\"Open In Colab\"/></a>"
      ]
    },
    {
      "cell_type": "code",
      "execution_count": 6,
      "metadata": {
        "colab": {
          "base_uri": "https://localhost:8080/"
        },
        "id": "UuMP53RMWGJx",
        "outputId": "7d454b83-3eed-42fc-9a6b-4ff7637eee43"
      },
      "outputs": [
        {
          "output_type": "stream",
          "name": "stdout",
          "text": [
            "Drive already mounted at /content/drive; to attempt to forcibly remount, call drive.mount(\"/content/drive\", force_remount=True).\n"
          ]
        }
      ],
      "source": [
        "from google.colab import drive\n",
        "drive.mount('/content/drive')"
      ]
    },
    {
      "cell_type": "code",
      "source": [
        "import os\n",
        "os.chdir('/content/drive/MyDrive/WD')"
      ],
      "metadata": {
        "id": "MGjd6RHUXVw9"
      },
      "execution_count": 7,
      "outputs": []
    },
    {
      "cell_type": "code",
      "source": [
        "!python memo.py -a \"Life is too short\""
      ],
      "metadata": {
        "id": "2NWRw35SXfkc"
      },
      "execution_count": 15,
      "outputs": []
    },
    {
      "cell_type": "code",
      "source": [
        "!python memo.py -a \"Life is too short\"\n",
        "!python memo.py -a \"You need python\""
      ],
      "metadata": {
        "id": "QiP-4EyoYxQJ"
      },
      "execution_count": 18,
      "outputs": []
    },
    {
      "cell_type": "code",
      "source": [
        "!python memo.py -v"
      ],
      "metadata": {
        "colab": {
          "base_uri": "https://localhost:8080/"
        },
        "id": "NYJ2QDNwbG9v",
        "outputId": "aff26685-e40c-4bc8-e1fe-4d1f14c1989b"
      },
      "execution_count": 19,
      "outputs": [
        {
          "output_type": "stream",
          "name": "stdout",
          "text": [
            "Life is too short\n",
            "You need python\n",
            "Life is too short\n",
            "You need python\n",
            "Life is too short\n",
            "Life is too short\n",
            "You need python\n",
            "Life is too short\n",
            "You need python\n",
            "Life is too short\n",
            "You need python\n",
            "\n"
          ]
        }
      ]
    },
    {
      "cell_type": "code",
      "source": [
        "!python tabto4.py a.txt b.txt"
      ],
      "metadata": {
        "id": "OOk2hHl4eITG"
      },
      "execution_count": 29,
      "outputs": []
    },
    {
      "cell_type": "code",
      "source": [
        "!python sub_dir_search.py"
      ],
      "metadata": {
        "colab": {
          "base_uri": "https://localhost:8080/"
        },
        "id": "P6CETzqEhjsK",
        "outputId": "e9d07861-5918-46ce-e2b2-5b0bbad4e1c4"
      },
      "execution_count": 34,
      "outputs": [
        {
          "output_type": "stream",
          "name": "stdout",
          "text": [
            "Traceback (most recent call last):\n",
            "  File \"/content/drive/MyDrive/WD/sub_dir_search.py\", line 9, in <module>\n",
            "    search(\"WD/\")\n",
            "  File \"/content/drive/MyDrive/WD/sub_dir_search.py\", line 4, in search\n",
            "    filenames = os.listdir(dirname)\n",
            "FileNotFoundError: [Errno 2] No such file or directory: 'WD/'\n"
          ]
        }
      ]
    }
  ]
}